{
 "cells": [
  {
   "cell_type": "code",
   "execution_count": 1,
   "id": "cf511e25",
   "metadata": {},
   "outputs": [
    {
     "name": "stdout",
     "output_type": "stream",
     "text": [
      "New Scrapy project 'WebCrawler', using template directory 'c:\\python39\\lib\\site-packages\\scrapy\\templates\\project', created in:\n",
      "    C:\\Users\\Estevan\\Documents\\WebScraping\\scrapy_lol\\WebCrawler\n",
      "\n",
      "You can start your first spider with:\n",
      "    cd WebCrawler\n",
      "    scrapy genspider example example.com\n"
     ]
    }
   ],
   "source": [
    "!scrapy startproject WebCrawler"
   ]
  },
  {
   "cell_type": "code",
   "execution_count": 2,
   "id": "1480affd",
   "metadata": {},
   "outputs": [
    {
     "name": "stdout",
     "output_type": "stream",
     "text": [
      "Created spider 'scrapy_lol' using template 'basic' in module:\n",
      "  WebCrawler.spiders.scrapy_lol\n"
     ]
    }
   ],
   "source": [
    "!cd WebCrawler && scrapy genspider scrapy_lol https://u.gg/lol/tier-list"
   ]
  },
  {
   "cell_type": "code",
   "execution_count": null,
   "id": "ae205f85",
   "metadata": {},
   "outputs": [],
   "source": [
    "!cd WebCrawler/WebCrawler/spiders && scrapy crawl scrapy_lol -o scrapy_lol.csv"
   ]
  },
  {
   "cell_type": "code",
   "execution_count": 4,
   "id": "c4877367",
   "metadata": {},
   "outputs": [],
   "source": [
    "import pandas as pd"
   ]
  },
  {
   "cell_type": "code",
   "execution_count": 7,
   "id": "8b612615",
   "metadata": {},
   "outputs": [
    {
     "data": {
      "text/html": [
       "<div>\n",
       "<style scoped>\n",
       "    .dataframe tbody tr th:only-of-type {\n",
       "        vertical-align: middle;\n",
       "    }\n",
       "\n",
       "    .dataframe tbody tr th {\n",
       "        vertical-align: top;\n",
       "    }\n",
       "\n",
       "    .dataframe thead th {\n",
       "        text-align: right;\n",
       "    }\n",
       "</style>\n",
       "<table border=\"1\" class=\"dataframe\">\n",
       "  <thead>\n",
       "    <tr style=\"text-align: right;\">\n",
       "      <th></th>\n",
       "      <th>ban_rate</th>\n",
       "      <th>fame</th>\n",
       "      <th>kda</th>\n",
       "      <th>name</th>\n",
       "      <th>pentas_match</th>\n",
       "      <th>rank</th>\n",
       "      <th>role</th>\n",
       "      <th>victory</th>\n",
       "    </tr>\n",
       "  </thead>\n",
       "  <tbody>\n",
       "    <tr>\n",
       "      <th>1</th>\n",
       "      <td>6.9%</td>\n",
       "      <td>28.91%</td>\n",
       "      <td>8.6 / 5.7 / 5.9</td>\n",
       "      <td>Kai'Sa</td>\n",
       "      <td>0.0084</td>\n",
       "      <td>1.0</td>\n",
       "      <td>ADC</td>\n",
       "      <td>50.54%</td>\n",
       "    </tr>\n",
       "    <tr>\n",
       "      <th>2</th>\n",
       "      <td>14.46%</td>\n",
       "      <td>18.96%</td>\n",
       "      <td>6.9 / 5.9 / 6.8</td>\n",
       "      <td>Caitlyn</td>\n",
       "      <td>0.0031</td>\n",
       "      <td>2.0</td>\n",
       "      <td>ADC</td>\n",
       "      <td>49.74%</td>\n",
       "    </tr>\n",
       "    <tr>\n",
       "      <th>3</th>\n",
       "      <td>12.3%</td>\n",
       "      <td>16.86%</td>\n",
       "      <td>6.7 / 6.3 / 6.6</td>\n",
       "      <td>Sylas</td>\n",
       "      <td>0.0013</td>\n",
       "      <td>3.0</td>\n",
       "      <td>Mid</td>\n",
       "      <td>48.92%</td>\n",
       "    </tr>\n",
       "    <tr>\n",
       "      <th>4</th>\n",
       "      <td>14.05%</td>\n",
       "      <td>16.66%</td>\n",
       "      <td>7.7 / 6.2 / 7.3</td>\n",
       "      <td>Miss Fortune</td>\n",
       "      <td>0.0053</td>\n",
       "      <td>4.0</td>\n",
       "      <td>ADC</td>\n",
       "      <td>51.27%</td>\n",
       "    </tr>\n",
       "    <tr>\n",
       "      <th>5</th>\n",
       "      <td>13.42%</td>\n",
       "      <td>16.1%</td>\n",
       "      <td>6.7 / 5.4 / 7.3</td>\n",
       "      <td>Graves</td>\n",
       "      <td>0.0018</td>\n",
       "      <td>5.0</td>\n",
       "      <td>Jungler</td>\n",
       "      <td>48.78%</td>\n",
       "    </tr>\n",
       "    <tr>\n",
       "      <th>...</th>\n",
       "      <td>...</td>\n",
       "      <td>...</td>\n",
       "      <td>...</td>\n",
       "      <td>...</td>\n",
       "      <td>...</td>\n",
       "      <td>...</td>\n",
       "      <td>...</td>\n",
       "      <td>...</td>\n",
       "    </tr>\n",
       "    <tr>\n",
       "      <th>168</th>\n",
       "      <td>0.53%</td>\n",
       "      <td>1.29%</td>\n",
       "      <td>6.5 / 6.1 / 6.6</td>\n",
       "      <td>Zeri</td>\n",
       "      <td>0.0063</td>\n",
       "      <td>157.0</td>\n",
       "      <td>ADC</td>\n",
       "      <td>42.8%</td>\n",
       "    </tr>\n",
       "    <tr>\n",
       "      <th>169</th>\n",
       "      <td>0.14%</td>\n",
       "      <td>1.01%</td>\n",
       "      <td>6.2 / 6.2 / 6.9</td>\n",
       "      <td>Corki</td>\n",
       "      <td>0.0008</td>\n",
       "      <td>158.0</td>\n",
       "      <td>Mid</td>\n",
       "      <td>46.04%</td>\n",
       "    </tr>\n",
       "    <tr>\n",
       "      <th>170</th>\n",
       "      <td>0.24%</td>\n",
       "      <td>1.01%</td>\n",
       "      <td>2.5 / 4.8 / 13.3</td>\n",
       "      <td>Ivern</td>\n",
       "      <td>0.0000</td>\n",
       "      <td>159.0</td>\n",
       "      <td>Jungler</td>\n",
       "      <td>49.11%</td>\n",
       "    </tr>\n",
       "    <tr>\n",
       "      <th>171</th>\n",
       "      <td>0.1%</td>\n",
       "      <td>0.97%</td>\n",
       "      <td>4.3 / 4.9 / 10.0</td>\n",
       "      <td>Skarner</td>\n",
       "      <td>0.0003</td>\n",
       "      <td>160.0</td>\n",
       "      <td>Jungler</td>\n",
       "      <td>49.9%</td>\n",
       "    </tr>\n",
       "    <tr>\n",
       "      <th>172</th>\n",
       "      <td>0.21%</td>\n",
       "      <td>0.54%</td>\n",
       "      <td>5.7 / 5.9 / 9.0</td>\n",
       "      <td>Aurelion Sol</td>\n",
       "      <td>0.0000</td>\n",
       "      <td>161.0</td>\n",
       "      <td>Mid</td>\n",
       "      <td>48.95%</td>\n",
       "    </tr>\n",
       "  </tbody>\n",
       "</table>\n",
       "<p>161 rows × 8 columns</p>\n",
       "</div>"
      ],
      "text/plain": [
       "    ban_rate    fame               kda          name  pentas_match   rank  \\\n",
       "1       6.9%  28.91%   8.6 / 5.7 / 5.9        Kai'Sa        0.0084    1.0   \n",
       "2     14.46%  18.96%   6.9 / 5.9 / 6.8       Caitlyn        0.0031    2.0   \n",
       "3      12.3%  16.86%   6.7 / 6.3 / 6.6         Sylas        0.0013    3.0   \n",
       "4     14.05%  16.66%   7.7 / 6.2 / 7.3  Miss Fortune        0.0053    4.0   \n",
       "5     13.42%   16.1%   6.7 / 5.4 / 7.3        Graves        0.0018    5.0   \n",
       "..       ...     ...               ...           ...           ...    ...   \n",
       "168    0.53%   1.29%   6.5 / 6.1 / 6.6          Zeri        0.0063  157.0   \n",
       "169    0.14%   1.01%   6.2 / 6.2 / 6.9         Corki        0.0008  158.0   \n",
       "170    0.24%   1.01%  2.5 / 4.8 / 13.3         Ivern        0.0000  159.0   \n",
       "171     0.1%   0.97%  4.3 / 4.9 / 10.0       Skarner        0.0003  160.0   \n",
       "172    0.21%   0.54%   5.7 / 5.9 / 9.0  Aurelion Sol        0.0000  161.0   \n",
       "\n",
       "        role victory  \n",
       "1        ADC  50.54%  \n",
       "2        ADC  49.74%  \n",
       "3        Mid  48.92%  \n",
       "4        ADC  51.27%  \n",
       "5    Jungler  48.78%  \n",
       "..       ...     ...  \n",
       "168      ADC   42.8%  \n",
       "169      Mid  46.04%  \n",
       "170  Jungler  49.11%  \n",
       "171  Jungler   49.9%  \n",
       "172      Mid  48.95%  \n",
       "\n",
       "[161 rows x 8 columns]"
      ]
     },
     "execution_count": 7,
     "metadata": {},
     "output_type": "execute_result"
    }
   ],
   "source": [
    "df = pd.read_csv('./WebCrawler/WebCrawler/spiders/scrapy_lol.csv')\n",
    "df = df.dropna()\n",
    "df"
   ]
  }
 ],
 "metadata": {
  "kernelspec": {
   "display_name": "Python 3.9.13 64-bit (microsoft store)",
   "language": "python",
   "name": "python3"
  },
  "language_info": {
   "codemirror_mode": {
    "name": "ipython",
    "version": 3
   },
   "file_extension": ".py",
   "mimetype": "text/x-python",
   "name": "python",
   "nbconvert_exporter": "python",
   "pygments_lexer": "ipython3",
   "version": "3.9.13"
  },
  "vscode": {
   "interpreter": {
    "hash": "3731249a38934cd4180149ac5fc03b8272f4a2a297bab802cc56f6909b56b2e3"
   }
  }
 },
 "nbformat": 4,
 "nbformat_minor": 5
}
