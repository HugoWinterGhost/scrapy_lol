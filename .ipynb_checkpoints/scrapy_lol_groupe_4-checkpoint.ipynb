{
 "cells": [
  {
   "cell_type": "code",
   "execution_count": 1,
   "id": "cf511e25",
   "metadata": {},
   "outputs": [
    {
     "name": "stdout",
     "output_type": "stream",
     "text": [
      "New Scrapy project 'WebCrawler', using template directory 'c:\\python39\\lib\\site-packages\\scrapy\\templates\\project', created in:\n",
      "    C:\\Users\\Estevan\\Documents\\WebScraping\\scrapy_lol\\WebCrawler\n",
      "\n",
      "You can start your first spider with:\n",
      "    cd WebCrawler\n",
      "    scrapy genspider example example.com\n"
     ]
    }
   ],
   "source": [
    "!scrapy startproject WebCrawler"
   ]
  },
  {
   "cell_type": "code",
   "execution_count": 2,
   "id": "1480affd",
   "metadata": {},
   "outputs": [
    {
     "name": "stdout",
     "output_type": "stream",
     "text": [
      "Created spider 'scrapy_lol' using template 'basic' in module:\n",
      "  WebCrawler.spiders.scrapy_lol\n"
     ]
    }
   ],
   "source": [
    "!cd WebCrawler && scrapy genspider scrapy_lol https://u.gg/lol/tier-list"
   ]
  },
  {
   "cell_type": "code",
   "execution_count": null,
   "id": "ae205f85",
   "metadata": {},
   "outputs": [],
   "source": [
    "!cd WebCrawler/WebCrawler/spiders && scrapy crawl scrapy_lol -o scrapy_lol.csv"
   ]
  },
  {
   "cell_type": "code",
   "execution_count": 5,
   "id": "c4877367",
   "metadata": {},
   "outputs": [],
   "source": [
    "import pandas as pd"
   ]
  },
  {
   "cell_type": "code",
   "execution_count": null,
   "id": "8b612615",
   "metadata": {},
   "outputs": [],
   "source": [
    "pd.read_csv('./WebCrawler/WebCrawler/spiders/scrapy_lol.csv')"
   ]
  }
 ],
 "metadata": {
  "kernelspec": {
   "display_name": "Python 3 (ipykernel)",
   "language": "python",
   "name": "python3"
  },
  "language_info": {
   "codemirror_mode": {
    "name": "ipython",
    "version": 3
   },
   "file_extension": ".py",
   "mimetype": "text/x-python",
   "name": "python",
   "nbconvert_exporter": "python",
   "pygments_lexer": "ipython3",
   "version": "3.9.2"
  }
 },
 "nbformat": 4,
 "nbformat_minor": 5
}
